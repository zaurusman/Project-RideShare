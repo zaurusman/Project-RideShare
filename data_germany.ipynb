{
 "cells": [
  {
   "metadata": {},
   "cell_type": "code",
   "outputs": [],
   "execution_count": null,
   "source": "",
   "id": "5c51d1c2e46935d8"
  },
  {
   "metadata": {},
   "cell_type": "markdown",
   "source": " i",
   "id": "4f7903fe6b4755c6"
  },
  {
   "metadata": {},
   "cell_type": "markdown",
   "source": [
    "in germany :\n",
    "\n",
    "Non-working days (vacation, holidays, and weekends) make up approximately 24.6% of the year.\n",
    "\n",
    "Working days (weekdays) make up approximately 75.4% of the year."
   ],
   "id": "2bc3a3e57cba2628"
  }
 ],
 "metadata": {},
 "nbformat": 5,
 "nbformat_minor": 9
}
